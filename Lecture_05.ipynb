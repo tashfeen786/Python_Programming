{
 "cells": [
  {
   "cell_type": "markdown",
   "metadata": {},
   "source": [
    "Operators In Pyhton"
   ]
  },
  {
   "cell_type": "code",
   "execution_count": 1,
   "metadata": {},
   "outputs": [
    {
     "name": "stdout",
     "output_type": "stream",
     "text": [
      "x:  8\n"
     ]
    }
   ],
   "source": [
    "# Assignment operator Example\n",
    "x = 5 # Assigin the value\n",
    "x += 3 # Add 3 to x and assign the result back to x\n",
    "print(\"x: \", x)  # Output: x: 8"
   ]
  },
  {
   "cell_type": "code",
   "execution_count": 2,
   "metadata": {},
   "outputs": [
    {
     "name": "stdout",
     "output_type": "stream",
     "text": [
      "addition:  13\n",
      "subtraction:  7\n",
      "multiplication:  30\n",
      "Division:  3.3333333333333335\n",
      "Modulus:  1\n",
      "Floor Division:  3\n",
      "Exponentiation:  1000\n"
     ]
    }
   ],
   "source": [
    "# Arithmetic Operators \n",
    "a, b = 10, 3\n",
    "print(\"addition: \", a + b)\n",
    "print(\"subtraction: \", a - b)\n",
    "print(\"multiplication: \", a * b)\n",
    "print(\"Division: \", a / b)\n",
    "print(\"Modulus: \", a % b)\n",
    "print(\"Floor Division: \", a // b)\n",
    "print(\"Exponentiation: \", a ** b)"
   ]
  },
  {
   "cell_type": "code",
   "execution_count": 3,
   "metadata": {},
   "outputs": [
    {
     "name": "stdout",
     "output_type": "stream",
     "text": [
      "x > y :  False\n",
      "x < y :  True\n",
      "x == y :  False\n",
      "x != y : True\n",
      "x >= y ; False\n",
      "x <= y : True\n"
     ]
    }
   ],
   "source": [
    "# Comparison Operators \n",
    "x , y = 5, 10\n",
    "print(\"x > y : \", x > y) # False\n",
    "print(\"x < y : \", x < y) # True\n",
    "print(\"x == y : \", x == y) # False\n",
    "print(\"x != y :\",x != y) # True\n",
    "print(\"x >= y ;\", x >= y) # False\n",
    "print(\"x <= y :\", x <= y) # True"
   ]
  },
  {
   "cell_type": "code",
   "execution_count": 4,
   "metadata": {},
   "outputs": [
    {
     "name": "stdout",
     "output_type": "stream",
     "text": [
      "a and b : False\n",
      "a or b : True\n",
      " not a : False\n"
     ]
    }
   ],
   "source": [
    "# Logical Operators\n",
    "a, b = True, False\n",
    "print(\"a and b :\", a and b)\n",
    "print(\"a or b :\", a or b)\n",
    "print(\" not a :\", not a)"
   ]
  }
 ],
 "metadata": {
  "kernelspec": {
   "display_name": "Python 3",
   "language": "python",
   "name": "python3"
  },
  "language_info": {
   "codemirror_mode": {
    "name": "ipython",
    "version": 3
   },
   "file_extension": ".py",
   "mimetype": "text/x-python",
   "name": "python",
   "nbconvert_exporter": "python",
   "pygments_lexer": "ipython3",
   "version": "3.12.6"
  }
 },
 "nbformat": 4,
 "nbformat_minor": 2
}
