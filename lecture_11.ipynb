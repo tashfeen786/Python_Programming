{
 "cells": [
  {
   "cell_type": "code",
   "execution_count": null,
   "id": "3c2c4cf0",
   "metadata": {},
   "outputs": [],
   "source": [
    "#map funcation"
   ]
  },
  {
   "cell_type": "code",
   "execution_count": 1,
   "id": "bd3e42d9",
   "metadata": {},
   "outputs": [
    {
     "name": "stdout",
     "output_type": "stream",
     "text": [
      "[2, 4, 6, 8, 10]\n"
     ]
    }
   ],
   "source": [
    "def double (x):\n",
    "    return x*2\n",
    "\n",
    "# using the map funcation to double number in list\n",
    "numbers = [1, 2, 3, 4, 5]\n",
    "doubled = list(map(double, numbers))\n",
    "print(doubled)\n",
    "\n"
   ]
  },
  {
   "cell_type": "markdown",
   "id": "b402e9ab",
   "metadata": {},
   "source": [
    "Filter funcation"
   ]
  },
  {
   "cell_type": "code",
   "execution_count": 2,
   "id": "2da07ece",
   "metadata": {},
   "outputs": [
    {
     "name": "stdout",
     "output_type": "stream",
     "text": [
      "[2, 4, 6]\n"
     ]
    }
   ],
   "source": [
    "def is_even(x):\n",
    "    return x % 2 == 0\n",
    "# using filter funcation to get only even number in a list\n",
    "numbers = [1,2, 3, 4, 5, 6]\n",
    "evens = list(filter(is_even, numbers))\n",
    "print(evens)\n"
   ]
  },
  {
   "cell_type": "code",
   "execution_count": 3,
   "id": "2eccf4f0",
   "metadata": {},
   "outputs": [
    {
     "name": "stdout",
     "output_type": "stream",
     "text": [
      "120\n"
     ]
    }
   ],
   "source": [
    "from functools import reduce\n",
    "def multiply(x, y):\n",
    "    return x*y\n",
    "# using reduce funcation to multply all number\n",
    "numbers = [1, 2, 3, 4, 5]\n",
    "product = reduce(multiply, numbers)\n",
    "print(product)"
   ]
  },
  {
   "cell_type": "markdown",
   "id": "6cfe4835",
   "metadata": {},
   "source": [
    "zip funcation"
   ]
  },
  {
   "cell_type": "code",
   "execution_count": 4,
   "id": "2f4b9481",
   "metadata": {},
   "outputs": [
    {
     "name": "stdout",
     "output_type": "stream",
     "text": [
      "[('ali', 23), ('ibrhm', 45), ('jhon', 56), ('bebo', 22)]\n"
     ]
    }
   ],
   "source": [
    "name = ['ali', 'ibrhm', 'jhon', 'bebo']\n",
    "ages = [23, 45, 56, 22]\n",
    "paired = list(zip(name, ages))\n",
    "print(paired)\n"
   ]
  }
 ],
 "metadata": {
  "kernelspec": {
   "display_name": "Python 3",
   "language": "python",
   "name": "python3"
  },
  "language_info": {
   "codemirror_mode": {
    "name": "ipython",
    "version": 3
   },
   "file_extension": ".py",
   "mimetype": "text/x-python",
   "name": "python",
   "nbconvert_exporter": "python",
   "pygments_lexer": "ipython3",
   "version": "3.12.6"
  }
 },
 "nbformat": 4,
 "nbformat_minor": 5
}
