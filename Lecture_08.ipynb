{
 "cells": [
  {
   "cell_type": "markdown",
   "metadata": {},
   "source": [
    "Built-in Funcation In Python"
   ]
  },
  {
   "cell_type": "code",
   "execution_count": 1,
   "metadata": {},
   "outputs": [
    {
     "name": "stdout",
     "output_type": "stream",
     "text": [
      "Wellcome to the Python Funcation\n"
     ]
    }
   ],
   "source": [
    "# The Print Funcation \n",
    "print(\"Wellcome to the Python Funcation\")"
   ]
  },
  {
   "cell_type": "code",
   "execution_count": 2,
   "metadata": {},
   "outputs": [
    {
     "name": "stdout",
     "output_type": "stream",
     "text": [
      "Hello Tashfeen\n"
     ]
    }
   ],
   "source": [
    "# The Input Funcation \n",
    "name = input(\"Enter your name: \")\n",
    "print(\"Hello\", name)"
   ]
  },
  {
   "cell_type": "code",
   "execution_count": 3,
   "metadata": {},
   "outputs": [
    {
     "name": "stdout",
     "output_type": "stream",
     "text": [
      "The type of number is  <class 'int'>\n"
     ]
    }
   ],
   "source": [
    "# the Type Funcation\n",
    "num = 10\n",
    "print(\"The type of number is \",type(num))"
   ]
  },
  {
   "cell_type": "code",
   "execution_count": 4,
   "metadata": {},
   "outputs": [
    {
     "name": "stdout",
     "output_type": "stream",
     "text": [
      "the length of word is : 6\n"
     ]
    }
   ],
   "source": [
    "# len function\n",
    "word = \"python\"\n",
    "print(\"the length of word is :\", len(word))"
   ]
  },
  {
   "cell_type": "code",
   "execution_count": 5,
   "metadata": {},
   "outputs": [
    {
     "name": "stdout",
     "output_type": "stream",
     "text": [
      "the maximum price in a list is: 60\n"
     ]
    }
   ],
   "source": [
    "# the max function\n",
    "price = [10,20,30,40,60]\n",
    "print(\"the maximum price in a list is:\",max(price))"
   ]
  },
  {
   "cell_type": "code",
   "execution_count": 6,
   "metadata": {},
   "outputs": [
    {
     "name": "stdout",
     "output_type": "stream",
     "text": [
      "The sorted rating is :   [3.6, 4.2, 4.5, 4.8, 5.0]\n"
     ]
    }
   ],
   "source": [
    "# the sorted function\n",
    "rating = [4.5, 3.6, 5.0, 4.2, 4.8]\n",
    "sorted_rating = sorted(rating)\n",
    "print(\"The sorted rating is :  \", sorted_rating)  "
   ]
  },
  {
   "cell_type": "code",
   "execution_count": 7,
   "metadata": {},
   "outputs": [
    {
     "name": "stdout",
     "output_type": "stream",
     "text": [
      "Dish 1 is ready\n",
      "Dish 2 is ready\n",
      "Dish 3 is ready\n",
      "Dish 4 is ready\n",
      "Dish 5 is ready\n"
     ]
    }
   ],
   "source": [
    "# Generate a sequence of number \n",
    "for i in range(5):\n",
    "    print(\"Dish\", i+1, \"is ready\")  # Print the dish number and the message"
   ]
  },
  {
   "cell_type": "code",
   "execution_count": 8,
   "metadata": {},
   "outputs": [
    {
     "name": "stdout",
     "output_type": "stream",
     "text": [
      "The address of x is: 140717484478168\n"
     ]
    }
   ],
   "source": [
    "# Returen the memory address\n",
    "x = 42\n",
    "print(\"The address of x is:\", id(x))"
   ]
  },
  {
   "cell_type": "code",
   "execution_count": 9,
   "metadata": {},
   "outputs": [
    {
     "name": "stdout",
     "output_type": "stream",
     "text": [
      "The result of Expression is:  11\n"
     ]
    }
   ],
   "source": [
    "# Evaluates Expression \n",
    "expression = \"5 + 3 * 2\"\n",
    "result = eval(expression)\n",
    "print(\"The result of Expression is: \", result)  # Output: 11"
   ]
  }
 ],
 "metadata": {
  "kernelspec": {
   "display_name": "base",
   "language": "python",
   "name": "python3"
  },
  "language_info": {
   "codemirror_mode": {
    "name": "ipython",
    "version": 3
   },
   "file_extension": ".py",
   "mimetype": "text/x-python",
   "name": "python",
   "nbconvert_exporter": "python",
   "pygments_lexer": "ipython3",
   "version": "3.11.7"
  }
 },
 "nbformat": 4,
 "nbformat_minor": 2
}
