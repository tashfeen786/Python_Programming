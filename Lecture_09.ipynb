{
 "cells": [
  {
   "cell_type": "code",
   "execution_count": 1,
   "metadata": {},
   "outputs": [
    {
     "name": "stdout",
     "output_type": "stream",
     "text": [
      "Number1 :  2\n",
      "Number2 :  4\n",
      "Result:  6\n"
     ]
    }
   ],
   "source": [
    "# define a funcation named 'add' that takes two parameters\n",
    "def add(num1, num2):\n",
    "    ''' This function adds two numbers together '''\n",
    "    print(\"Number1 : \", num1) # print the first number\n",
    "    print(\"Number2 : \", num2) # print the second number\n",
    "    addition = num1 + num2  # add the two numbers together\n",
    "    return addition  # return the result of the addition\n",
    "\n",
    "# call the function with two numbers\n",
    "res = add(2,4) \n",
    "print(\"Result: \", res) # print the result of the function call"
   ]
  }
 ],
 "metadata": {
  "kernelspec": {
   "display_name": "Python 3",
   "language": "python",
   "name": "python3"
  },
  "language_info": {
   "codemirror_mode": {
    "name": "ipython",
    "version": 3
   },
   "file_extension": ".py",
   "mimetype": "text/x-python",
   "name": "python",
   "nbconvert_exporter": "python",
   "pygments_lexer": "ipython3",
   "version": "3.12.6"
  }
 },
 "nbformat": 4,
 "nbformat_minor": 2
}
