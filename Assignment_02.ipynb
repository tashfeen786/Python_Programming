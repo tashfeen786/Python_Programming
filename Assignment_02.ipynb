{
 "cells": [
  {
   "cell_type": "markdown",
   "metadata": {},
   "source": [
    "Question 1: Variables and Data Types\n",
    "Problem: Write a Python program that:\n",
    "1. Accepts a string, an integer, a float, and a boolean from the user.\n",
    "2. Initializes variables for each type, and prints them out.\n",
    "3. Convert the string to uppercase and print it.\n",
    "4. Check if the integer is even or odd and print the result.\n",
    "5. Multiply the float by 2 and print the result."
   ]
  },
  {
   "cell_type": "code",
   "execution_count": 1,
   "metadata": {},
   "outputs": [
    {
     "name": "stdout",
     "output_type": "stream",
     "text": [
      "Uppercase String: PYTHON\n",
      "The number 25 is Odd\n",
      "Doubled float: 6.28\n"
     ]
    }
   ],
   "source": [
    "my_string = input(\"Enter a string: \")\n",
    "my_integer = int(input(\"Enter an integer: \"))\n",
    "my_float = float(input(\"Enter a float: \"))\n",
    "my_boolean = input(\"Enter a boolean (True/False): \").strip().capitalize() == \"True\"\n",
    "\n",
    "print(\"Uppercase String:\", my_string.upper())  # Convert string to uppercase and print it\n",
    "\n",
    "if my_integer % 2 == 0: # Check if the integer is even\n",
    "    print(f\"The number {my_integer} is Even\")\n",
    "else:\n",
    "    print(f\"The number {my_integer} is Odd\") \n",
    "\n",
    "# Multiply float by 2 and print the result\n",
    "print(\"Doubled float:\", my_float * 2)\n"
   ]
  },
  {
   "cell_type": "markdown",
   "metadata": {},
   "source": [
    "Question 2: Operators\n",
    "Problem: Write a Python program that:\n",
    "1. Accepts two numbers as input from the user.\n",
    "2. Performs and prints the result of all the arithmetic operations (addition,\n",
    "subtraction, multiplication, division, modulus, flow division) between these\n",
    "two numbers.\n",
    "3. Use comparison operators to check if the first number is greater than the\n",
    "second, and if they are equal.\n",
    "4. Use logical operators to combine two conditions (e.g., the first number is\n",
    "greater than the second, and the second number is less than 10)."
   ]
  },
  {
   "cell_type": "code",
   "execution_count": 2,
   "metadata": {},
   "outputs": [
    {
     "name": "stdout",
     "output_type": "stream",
     "text": [
      "Addition: 13.0\n",
      "Subtraction: 7.0\n",
      "Multiplication: 30.0\n",
      "Division: 3.3333333333333335\n",
      "Modulus: 1.0\n",
      "Floor Division: 3.0\n",
      "First number is greater than second: True\n",
      "First number is equal to second: False\n",
      "Both conditions are true: True\n"
     ]
    }
   ],
   "source": [
    "# Accepting two numbers as input\n",
    "num1 = float(input(\"Enter the first number: \"))\n",
    "num2 = float(input(\"Enter the second number: \"))\n",
    "\n",
    "# Performing arithmetic operations\n",
    "print(\"Addition:\", num1 + num2)\n",
    "print(\"Subtraction:\", num1 - num2)\n",
    "print(\"Multiplication:\", num1 * num2)\n",
    "print(\"Division:\", num1 / num2)\n",
    "print(\"Modulus:\", num1 % num2)\n",
    "print(\"Floor Division:\", num1 // num2)  # Floor division rounds down to the nearest whole number\n",
    "\n",
    "# Using comparison operators\n",
    "print(\"First number is greater than second:\", num1 > num2)\n",
    "print(\"First number is equal to second:\", num1 == num2)\n",
    "\n",
    "# Using logical operators\n",
    "condition1 = num1 > num2\n",
    "condition2 = num2 < 10\n",
    "print(\"Both conditions are true:\", condition1 and condition2)\n"
   ]
  },
  {
   "cell_type": "markdown",
   "metadata": {},
   "source": [
    "Question 3: Loops\n",
    "Problem: Write a Python program that:\n",
    "1. Accepts a list of integers from the user.\n",
    "2. Loops through the list and prints out each number.\n",
    "3. If a number is greater than 10, skip it using the continue statement.\n",
    "4. Stop the loop if the number is 20 using the break statement.\n",
    "5. After the loop ends, print a message that the loop ended naturally."
   ]
  },
  {
   "cell_type": "code",
   "execution_count": 8,
   "metadata": {},
   "outputs": [
    {
     "name": "stdout",
     "output_type": "stream",
     "text": [
      "5\n",
      "10\n",
      "Skipping 12\n",
      "15\n",
      "Breaking at 20\n",
      "Loop ended naturally\n"
     ]
    }
   ],
   "source": [
    "# Accepting a list of integers from the user\n",
    "user_input = input(\"Enter a list of numbers separated by spaces: \")\n",
    "num_list = list(map(int, user_input.split()))  # Convert input to a list of integers\n",
    "\n",
    "# Looping through the list\n",
    "for num in num_list:\n",
    "    if num == 12:\n",
    "        print(f\"Skipping {num}\")\n",
    "        continue  # Skip only 12\n",
    "\n",
    "    if num == 20:\n",
    "        print(\"Breaking at 20\")\n",
    "        break  # Stop the loop when encountering 20\n",
    "\n",
    "    print(num)  # Print the number if it is not skipped\n",
    "\n",
    "# Message after the loop ends\n",
    "print(\"Loop ended naturally\")\n"
   ]
  }
 ],
 "metadata": {
  "kernelspec": {
   "display_name": "Python 3",
   "language": "python",
   "name": "python3"
  },
  "language_info": {
   "codemirror_mode": {
    "name": "ipython",
    "version": 3
   },
   "file_extension": ".py",
   "mimetype": "text/x-python",
   "name": "python",
   "nbconvert_exporter": "python",
   "pygments_lexer": "ipython3",
   "version": "3.12.6"
  }
 },
 "nbformat": 4,
 "nbformat_minor": 2
}
