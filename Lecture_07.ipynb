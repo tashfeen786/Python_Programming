{
 "cells": [
  {
   "cell_type": "code",
   "execution_count": 1,
   "metadata": {},
   "outputs": [],
   "source": [
    "# Traffice light Example for conditional statement \n",
    "traffic_light = \"Red\"\n",
    "if traffic_light == \"Green\":\n",
    "    print(\"You can go\")"
   ]
  },
  {
   "cell_type": "code",
   "execution_count": 3,
   "metadata": {},
   "outputs": [
    {
     "name": "stdout",
     "output_type": "stream",
     "text": [
      "You must Stop!\n"
     ]
    }
   ],
   "source": [
    "# Traffice light Example for conditional statement \n",
    "traffic_light = \"Red\"\n",
    "if traffic_light == \"Green\":\n",
    "    print(\"You can go\")\n",
    "else:\n",
    "    print(\"You must Stop!\")\n"
   ]
  },
  {
   "cell_type": "code",
   "execution_count": 4,
   "metadata": {},
   "outputs": [
    {
     "name": "stdout",
     "output_type": "stream",
     "text": [
      "You must stop\n"
     ]
    }
   ],
   "source": [
    "# Traffice light Example for conditional statement \n",
    "traffic_light = \"Red\"\n",
    "if traffic_light == \"Green\":\n",
    "    print(\"You can go\")\n",
    "elif traffic_light == \"Yellow\":\n",
    "    print(\"Be prepared to stop\")\n",
    "else:\n",
    "    print(\"You must stop\")  # Output: You must stop"
   ]
  },
  {
   "cell_type": "code",
   "execution_count": null,
   "metadata": {},
   "outputs": [],
   "source": []
  }
 ],
 "metadata": {
  "kernelspec": {
   "display_name": "Python 3",
   "language": "python",
   "name": "python3"
  },
  "language_info": {
   "codemirror_mode": {
    "name": "ipython",
    "version": 3
   },
   "file_extension": ".py",
   "mimetype": "text/x-python",
   "name": "python",
   "nbconvert_exporter": "python",
   "pygments_lexer": "ipython3",
   "version": "3.12.6"
  }
 },
 "nbformat": 4,
 "nbformat_minor": 2
}
