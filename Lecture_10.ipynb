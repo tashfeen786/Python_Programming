{
 "cells": [
  {
   "cell_type": "code",
   "execution_count": 1,
   "metadata": {},
   "outputs": [
    {
     "name": "stdout",
     "output_type": "stream",
     "text": [
      "Inside a Funcation: x = 10, y = 5\n",
      "outside of Funcation: x = 10\n"
     ]
    }
   ],
   "source": [
    "x = 10 # Global variable\n",
    "def my_funcation():\n",
    "    y = 5 # Local variable\n",
    "    print(f'Inside a Funcation: x = {x}, y = {y}')\n",
    "\n",
    "my_funcation()\n",
    "print(f'outside of Funcation: x = {x}') # y cannot b accessed here\n"
   ]
  },
  {
   "cell_type": "code",
   "execution_count": 2,
   "metadata": {},
   "outputs": [
    {
     "name": "stdout",
     "output_type": "stream",
     "text": [
      "Inside inner function: local\n",
      "Inside outer function: enclosing\n",
      "outside all funcation:  global\n"
     ]
    }
   ],
   "source": [
    "x = 'global' # Global variable\n",
    "\n",
    "def outer_funcation():\n",
    "    x = 'enclosing' # Enclosing Variable\n",
    "    def inner_funcation():\n",
    "        x = 'local' # Local variable\n",
    "        print('Inside inner function:', x) # Output: Inside inner function: local\n",
    "    \n",
    "    inner_funcation()\n",
    "    print('Inside outer function:', x) # Output: Inside outer function: enclosing\n",
    "\n",
    "outer_funcation()\n",
    "print('outside all funcation: ', x) # Output: outside all funcation: global\n"
   ]
  },
  {
   "cell_type": "code",
   "execution_count": null,
   "metadata": {},
   "outputs": [],
   "source": []
  }
 ],
 "metadata": {
  "kernelspec": {
   "display_name": "Python 3",
   "language": "python",
   "name": "python3"
  },
  "language_info": {
   "codemirror_mode": {
    "name": "ipython",
    "version": 3
   },
   "file_extension": ".py",
   "mimetype": "text/x-python",
   "name": "python",
   "nbconvert_exporter": "python",
   "pygments_lexer": "ipython3",
   "version": "3.12.6"
  }
 },
 "nbformat": 4,
 "nbformat_minor": 2
}
