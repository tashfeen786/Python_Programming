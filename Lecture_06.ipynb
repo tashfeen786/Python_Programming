{
 "cells": [
  {
   "cell_type": "markdown",
   "metadata": {},
   "source": [
    "Loops In Python"
   ]
  },
  {
   "cell_type": "code",
   "execution_count": 1,
   "metadata": {},
   "outputs": [
    {
     "name": "stdout",
     "output_type": "stream",
     "text": [
      "1\n",
      "2\n",
      "3\n",
      "4\n",
      "5\n"
     ]
    }
   ],
   "source": [
    "# For loop\n",
    "numbers = [1, 2, 3, 4, 5] # simple List of numbers\n",
    "for num in numbers:\n",
    "    print(num)\n"
   ]
  },
  {
   "cell_type": "code",
   "execution_count": 2,
   "metadata": {},
   "outputs": [
    {
     "name": "stdout",
     "output_type": "stream",
     "text": [
      "Index: 0, Fruit: apple\n",
      "Index: 1, Fruit: banana\n",
      "Index: 2, Fruit: cherry\n",
      "Index: 3, Fruit: date\n",
      "Index: 4, Fruit: elderberry\n"
     ]
    }
   ],
   "source": [
    "# Example # 02 Using enumerate to get both index and value from a list\n",
    "fruits = [\"apple\", \"banana\", \"cherry\", \"date\", \"elderberry\"] # List of fruits\n",
    "for index, fruit in enumerate(fruits): # Loop through the list with enumerate\n",
    "    print(f\"Index: {index}, Fruit: {fruit}\") # Print the index and fruit"
   ]
  },
  {
   "cell_type": "code",
   "execution_count": 3,
   "metadata": {},
   "outputs": [
    {
     "name": "stdout",
     "output_type": "stream",
     "text": [
      "Iteratin over key\n",
      "name: John\n",
      "age: 30\n",
      "city: New York\n"
     ]
    }
   ],
   "source": [
    "# Example # 03 Iterating over a dictionary \n",
    "person = {\n",
    "    \"name\" : \"John\", # key: value\n",
    "    \"age\" : 30, \n",
    "    \"city\" : \"New York\"\n",
    "}\n",
    "print(\"Iteratin over key\")\n",
    "for key in person:\n",
    "    print(f\"{key}: {person[key]}\") # accessing the value using the key"
   ]
  },
  {
   "cell_type": "code",
   "execution_count": 4,
   "metadata": {},
   "outputs": [
    {
     "name": "stdout",
     "output_type": "stream",
     "text": [
      "\n",
      "Iterating over key-value pairs using .item():\n",
      "name: John\n",
      "age: 30\n",
      "city: New York\n"
     ]
    }
   ],
   "source": [
    "# Iterating over key-values pairs using .item()\n",
    "print(\"\\nIterating over key-value pairs using .item():\")\n",
    "for key, value in person.items():\n",
    "    print(f\"{key}: {value}\") "
   ]
  },
  {
   "cell_type": "markdown",
   "metadata": {},
   "source": [
    "While Loop in Python "
   ]
  },
  {
   "cell_type": "code",
   "execution_count": 5,
   "metadata": {},
   "outputs": [
    {
     "name": "stdout",
     "output_type": "stream",
     "text": [
      "count is : 0\n",
      "count is : 1\n",
      "count is : 2\n",
      "count is : 3\n",
      "count is : 4\n"
     ]
    }
   ],
   "source": [
    "# Example # 04 A basic while loop that counts from 0 to 4\n",
    "count = 0  # initilalize the counter variable\n",
    "while count < 5: # condition to check if the counter is less than 5\n",
    "    print(\"count is :\", count) # print the counter value    \n",
    "    count += 1 # increment the counter by 1"
   ]
  },
  {
   "cell_type": "code",
   "execution_count": 6,
   "metadata": {},
   "outputs": [
    {
     "name": "stdout",
     "output_type": "stream",
     "text": [
      "current number:  0\n",
      "current number:  1\n",
      "current number:  2\n",
      "Skipping 3\n",
      "current number:  4\n",
      "current number:  5\n",
      "current number:  6\n",
      "current number:  7\n",
      "Breaking at 8\n"
     ]
    }
   ],
   "source": [
    "# Example 05: Using break, continue, and else in loop\n",
    "for i in range(10):\n",
    "    if i == 3:\n",
    "        print(\"Skipping 3\")\n",
    "        continue  # Skip the rest of the loop body and move to the next iteration\n",
    "    if i == 8:\n",
    "        print(\"Breaking at 8\") \n",
    "        break    # This will stop the loop at 8\n",
    "    print(\"current number: \", i)\n",
    "else:\n",
    "    # this block execute only if the loop was not terminated by break\n",
    "    print(\"Loop completed without breaking\")  # This will only print if the loop completes normally"
   ]
  },
  {
   "cell_type": "code",
   "execution_count": 2,
   "metadata": {},
   "outputs": [
    {
     "name": "stdout",
     "output_type": "stream",
     "text": [
      "student1\n",
      "student2\n",
      "studen3\n"
     ]
    }
   ],
   "source": [
    "student = [\"student1\", \"student2\", \"studen3\"]\n",
    "for i in student:\n",
    "    print(i)\n"
   ]
  },
  {
   "cell_type": "code",
   "execution_count": 4,
   "metadata": {},
   "outputs": [
    {
     "name": "stdout",
     "output_type": "stream",
     "text": [
      "Number is even\n"
     ]
    }
   ],
   "source": [
    "num = int(input(\"Enter any numbe\"))\n",
    "if num % 2 == 0:\n",
    "    print(\"Number is even\")\n",
    "else:\n",
    "    print(\"odd\")"
   ]
  }
 ],
 "metadata": {
  "kernelspec": {
   "display_name": "Python 3",
   "language": "python",
   "name": "python3"
  },
  "language_info": {
   "codemirror_mode": {
    "name": "ipython",
    "version": 3
   },
   "file_extension": ".py",
   "mimetype": "text/x-python",
   "name": "python",
   "nbconvert_exporter": "python",
   "pygments_lexer": "ipython3",
   "version": "3.12.6"
  }
 },
 "nbformat": 4,
 "nbformat_minor": 2
}
