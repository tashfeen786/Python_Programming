{
 "cells": [
  {
   "cell_type": "code",
   "execution_count": null,
   "metadata": {},
   "outputs": [
    {
     "name": "stdout",
     "output_type": "stream",
     "text": [
      "num1 12 <class 'int'>\n",
      "num2 -4 <class 'int'>\n"
     ]
    }
   ],
   "source": [
    "#Integer\n",
    "num1=12\n",
    "num2=-4\n",
    "num3=1\n",
    "print(\"num1\", num1, type(num1))\n",
    "print(\"num2\", num2, type(num2))"
   ]
  },
  {
   "cell_type": "code",
   "execution_count": 3,
   "metadata": {},
   "outputs": [
    {
     "name": "stdout",
     "output_type": "stream",
     "text": [
      "Hello World <class 'str'>\n",
      "i can single quotes  <class 'str'>\n",
      "This is a \n",
      "multiline_text  <class 'str'>\n"
     ]
    }
   ],
   "source": [
    "#string\n",
    "greeting=\"Hello World\"\n",
    "quotes='i can single quotes '\n",
    "multiline_text =\"\"\"This is a \n",
    "multiline_text \"\"\"\n",
    "print(greeting,type(greeting))\n",
    "print(quotes,type(quotes))\n",
    "print(multiline_text,type(multiline_text))\n"
   ]
  },
  {
   "cell_type": "code",
   "execution_count": 4,
   "metadata": {},
   "outputs": [
    {
     "name": "stdout",
     "output_type": "stream",
     "text": [
      "full_name:  JhonDoe\n",
      "Repetition:  hahaha\n",
      "first_char: H\n",
      "substring: Hello\n"
     ]
    }
   ],
   "source": [
    "#concatenation\n",
    "first_name=\"Jhon\"\n",
    "last_name=\"Doe\"\n",
    "full_name=first_name + \"\" + last_name\n",
    "\n",
    "# Repetition\n",
    "ha_3_times= \"ha\" * 3\n",
    "\n",
    "# Indexing and slicing\n",
    "first_char=greeting[0]\n",
    "substring = greeting[0:5]\n",
    "\n",
    "print(\"full_name: \", full_name)\n",
    "print(\"Repetition: \", ha_3_times)\n",
    "print(\"first_char:\",first_char)\n",
    "print(\"substring:\",substring)\n"
   ]
  },
  {
   "cell_type": "code",
   "execution_count": 6,
   "metadata": {},
   "outputs": [
    {
     "name": "stdout",
     "output_type": "stream",
     "text": [
      "My age is 25 years old.\n"
     ]
    }
   ],
   "source": [
    "# F-string\n",
    "age = 25\n",
    "print(f\"My age is {age} years old.\")"
   ]
  },
  {
   "cell_type": "code",
   "execution_count": 2,
   "metadata": {},
   "outputs": [
    {
     "name": "stdout",
     "output_type": "stream",
     "text": [
      "is_python_easy:    True <class 'bool'>\n",
      "likes_coffe:   False <class 'bool'>\n"
     ]
    }
   ],
   "source": [
    "#Boolean\n",
    "is_python_easy = True\n",
    "likes_coffe = False\n",
    "print(\"is_python_easy:   \", is_python_easy, type(is_python_easy))\n",
    "print(\"likes_coffe:  \" , likes_coffe, type(likes_coffe))"
   ]
  },
  {
   "cell_type": "code",
   "execution_count": 3,
   "metadata": {},
   "outputs": [
    {
     "name": "stdout",
     "output_type": "stream",
     "text": [
      "yes, Python is easy to learn\n"
     ]
    }
   ],
   "source": [
    "#instead of if is_python_easy==True\n",
    "#do this\n",
    "if is_python_easy:\n",
    "    print(\"yes, Python is easy to learn\")"
   ]
  },
  {
   "cell_type": "code",
   "execution_count": 5,
   "metadata": {},
   "outputs": [
    {
     "name": "stdout",
     "output_type": "stream",
     "text": [
      "nothing_here:  None <class 'NoneType'>\n"
     ]
    }
   ],
   "source": [
    "nothing_here = None\n",
    "print(\"nothing_here: \", nothing_here, type(nothing_here))  # Output: nothing_here: None"
   ]
  },
  {
   "cell_type": "code",
   "execution_count": 7,
   "metadata": {},
   "outputs": [
    {
     "name": "stdout",
     "output_type": "stream",
     "text": [
      "This variable has no value.\n"
     ]
    }
   ],
   "source": [
    "if nothing_here is None:\n",
    "    print(\"This variable has no value.\")"
   ]
  },
  {
   "cell_type": "code",
   "execution_count": 8,
   "metadata": {},
   "outputs": [
    {
     "name": "stdout",
     "output_type": "stream",
     "text": [
      "empty_list:  []\n",
      "number:  [10, 20, 30, 40]\n",
      "mixed_list:  ['Hello', 3.14, True]\n",
      "First number:  10\n",
      "Last number:  40\n"
     ]
    }
   ],
   "source": [
    "#Create a list in different type\n",
    "empty_list = []\n",
    "number = [10, 20, 30, 40]\n",
    "mixed_list = [\"Hello\", 3.14, True]\n",
    "\n",
    "print(\"empty_list: \", empty_list)\n",
    "print(\"number: \", number)\n",
    "print(\"mixed_list: \", mixed_list)\n",
    "\n",
    "# Accessing elements by index\n",
    "first_num = number[0]\n",
    "last_num = number[-1]\n",
    "print(\"First number: \", first_num)\n",
    "print(\"Last number: \", last_num)"
   ]
  },
  {
   "cell_type": "code",
   "execution_count": 10,
   "metadata": {},
   "outputs": [
    {
     "name": "stdout",
     "output_type": "stream",
     "text": [
      "Modified number list:  [10, 25, 30, 40]\n",
      "Removing Items:  50\n"
     ]
    }
   ],
   "source": [
    "#Adding element in list \n",
    "number.append(50) #adds 50 at the end of the list\n",
    "number.insert(2, 15) #inserts 15 at the 2nd index of the list\n",
    "\n",
    "#Removing element from list\n",
    "removing_items = number.pop() #removes the last element from the list\n",
    "number.remove(20) #removes the first occurrence of 20 in the list\n",
    "\n",
    "#Modifying element in list\n",
    "number[1] = 25 #modifies the 2nd element of the list to 25\n",
    "print(\"Modified number list: \", number)\n",
    "print(\"Removing Items: \", removing_items) #prints the removed item"
   ]
  },
  {
   "cell_type": "code",
   "execution_count": 11,
   "metadata": {},
   "outputs": [
    {
     "name": "stdout",
     "output_type": "stream",
     "text": [
      "empty_tuple ()\n",
      "single_element_tuple (42,)\n",
      "number_tuple (10, 20, 30)\n",
      "mixed_tuple ('Alice', 25, True)\n",
      "First_item 10\n",
      "Slicing sub_tuple (20, 30)\n"
     ]
    }
   ],
   "source": [
    "# Creating Tuples\n",
    "empty_tuple = ()\n",
    "single_element_tuple = (42,)\n",
    "number_tuple = (10, 20, 30)\n",
    "mixed_tuple = ( \"Alice\", 25, True)\n",
    "\n",
    "print(\"empty_tuple\", empty_tuple)\n",
    "print(\"single_element_tuple\", single_element_tuple)\n",
    "print(\"number_tuple\", number_tuple)\n",
    "print(\"mixed_tuple\", mixed_tuple)\n",
    "\n",
    "# Accessing element by index\n",
    "first_item = number_tuple[0]\n",
    "print(\"First_item\",first_item)\n",
    "\n",
    "# Slicing work similary to lists\n",
    "sub_tuple = number_tuple[1:]\n",
    "print(\"Slicing sub_tuple\", sub_tuple)"
   ]
  },
  {
   "cell_type": "code",
   "execution_count": 12,
   "metadata": {},
   "outputs": [
    {
     "name": "stdout",
     "output_type": "stream",
     "text": [
      "Error: 'tuple' object does not support item assignment\n"
     ]
    }
   ],
   "source": [
    "# Trying to modify a tuple will raise an error\n",
    "try:\n",
    "    number_tuple[1]=99\n",
    "except TypeError as e:\n",
    "    print(f\"Error: {e}\")  # Output: Error: 'tuple' object does"
   ]
  },
  {
   "cell_type": "code",
   "execution_count": 13,
   "metadata": {},
   "outputs": [
    {
     "name": "stdout",
     "output_type": "stream",
     "text": [
      "Name:  Bebo\n",
      "Age:  30\n",
      "Message:  love you Bebo\n"
     ]
    }
   ],
   "source": [
    "# Unpacking a tuple into a separate variables\n",
    "person_tuple = (\"Bebo\", 30, \"love you Bebo\")\n",
    "name, age, message = person_tuple\n",
    "print(\"Name: \", name)\n",
    "print(\"Age: \", age)\n",
    "print(\"Message: \", message)"
   ]
  },
  {
   "cell_type": "code",
   "execution_count": 17,
   "metadata": {},
   "outputs": [
    {
     "name": "stdout",
     "output_type": "stream",
     "text": [
      "empty_dict:  {}\n",
      "person_dict:  {'name': 'Bebo', 'age': 22}\n",
      "another_dict:  {'city': 'New York', 'country': 'USA'}\n",
      "Name:  Bebo\n",
      "Age:  22\n"
     ]
    }
   ],
   "source": [
    "# Creation of Dictionary\n",
    "empty_dict = {}\n",
    "person_dict = {\"name\": \"Bebo\", \"age\": 22}\n",
    "another_dict = dict(city= \"New York\", country= \"USA\")\n",
    "\n",
    "print(\"empty_dict: \", empty_dict)\n",
    "print(\"person_dict: \", person_dict)\n",
    "print(\"another_dict: \", another_dict)\n",
    "\n",
    "# Accessing value by key\n",
    "print(\"Name: \", person_dict[\"name\"])\n",
    "print(\"Age: \", person_dict[\"age\"])"
   ]
  },
  {
   "cell_type": "markdown",
   "metadata": {},
   "source": [
    "Adding, updating, and Removing key"
   ]
  },
  {
   "cell_type": "code",
   "execution_count": 18,
   "metadata": {},
   "outputs": [
    {
     "name": "stdout",
     "output_type": "stream",
     "text": [
      "Removing age:  22\n",
      "City exists\n",
      "{'name': 'Bebo', 'city': 'landon'}\n"
     ]
    }
   ],
   "source": [
    "# adding and updating key value pair \n",
    "person_dict[\"city\"] = \"landon\"\n",
    "# removing a key value pair\n",
    "removed_value = person_dict.pop(\"age\")\n",
    "print(\"Removing age: \", removed_value)  # Output: Removing age:  25\n",
    "# checking if a key exists\n",
    "if \"city\" in person_dict:\n",
    "    print(\"City exists\")  # Output: City exists\n",
    "print(person_dict )"
   ]
  },
  {
   "cell_type": "code",
   "execution_count": 19,
   "metadata": {},
   "outputs": [
    {
     "name": "stdout",
     "output_type": "stream",
     "text": [
      "Keys:  dict_keys(['name', 'city'])\n",
      "Values:  dict_values(['Bebo', 'landon'])\n",
      "Items:  dict_items([('name', 'Bebo'), ('city', 'landon')])\n"
     ]
    }
   ],
   "source": [
    "print(\"Keys: \",person_dict.keys())\n",
    "print(\"Values: \",person_dict.values())\n",
    "print(\"Items: \",person_dict.items())"
   ]
  },
  {
   "cell_type": "code",
   "execution_count": 24,
   "metadata": {},
   "outputs": [
    {
     "name": "stdout",
     "output_type": "stream",
     "text": [
      "empty_set:  set()\n",
      "number set:  {1, 2, 3, 4}\n",
      "mixed_set:  {42, (1, 2), 'apple'}\n"
     ]
    }
   ],
   "source": [
    "# Creating set\n",
    "empty_set = set()\n",
    "number_set = {1, 2, 3, 4, 2}\n",
    "mixed_set = {\"apple\", 42, (1,2)}\n",
    "\n",
    "print(\"empty_set: \", empty_set)\n",
    "print(\"number set: \",number_set)\n",
    "print(\"mixed_set: \", mixed_set)"
   ]
  },
  {
   "cell_type": "markdown",
   "metadata": {},
   "source": [
    "Adding and Removing Element"
   ]
  },
  {
   "cell_type": "code",
   "execution_count": 27,
   "metadata": {},
   "outputs": [
    {
     "name": "stdout",
     "output_type": "stream",
     "text": [
      "Update set: {1, 3, 4}\n"
     ]
    }
   ],
   "source": [
    "number_set.add(4)\n",
    "number_set.discard(2)\n",
    "\n",
    "print(\"Update set:\",number_set)"
   ]
  },
  {
   "cell_type": "markdown",
   "metadata": {},
   "source": [
    "SET Operations \n",
    "sets support mathematical set operations like union, intersection and difference, etc"
   ]
  },
  {
   "cell_type": "code",
   "execution_count": 28,
   "metadata": {},
   "outputs": [
    {
     "name": "stdout",
     "output_type": "stream",
     "text": [
      "Union:  {1, 2, 3, 4, 5}\n",
      "Intersection: {3}\n",
      "Difference:  {1, 2}\n",
      "Symmetric Difference:  {1, 2, 4, 5}\n"
     ]
    }
   ],
   "source": [
    "set_a = {1, 2, 3}\n",
    "set_b = {3, 4, 5}\n",
    "# Unoin: all element for both set \n",
    "print(\"Union: \", set_a.union(set_b))\n",
    "\n",
    "# intersection: element common in both set \n",
    "print(\"Intersection:\", set_a.intersection(set_b))\n",
    "\n",
    "# Difference: element in set_a not in set_b\n",
    "print(\"Difference: \", set_a.difference(set_b))\n",
    "\n",
    "# Symmetric Difference: element in set_a or set_b but not in both\n",
    "print(\"Symmetric Difference: \", set_a.symmetric_difference(set_b))"
   ]
  },
  {
   "cell_type": "code",
   "execution_count": null,
   "metadata": {},
   "outputs": [],
   "source": []
  }
 ],
 "metadata": {
  "kernelspec": {
   "display_name": "Python 3",
   "language": "python",
   "name": "python3"
  },
  "language_info": {
   "codemirror_mode": {
    "name": "ipython",
    "version": 3
   },
   "file_extension": ".py",
   "mimetype": "text/x-python",
   "name": "python",
   "nbconvert_exporter": "python",
   "pygments_lexer": "ipython3",
   "version": "3.12.6"
  }
 },
 "nbformat": 4,
 "nbformat_minor": 2
}
