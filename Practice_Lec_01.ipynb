{
 "cells": [
  {
   "cell_type": "markdown",
   "id": "27a81499",
   "metadata": {},
   "source": [
    "Question 1: Personalized Greeting Program\n",
    "Problem:\n",
    "Write a Python program that asks the user for their name and age. Then, print a message that says:\n",
    "Hello, [Name]! You will turn 100 years old in the year [Year]."
   ]
  },
  {
   "cell_type": "code",
   "execution_count": 1,
   "id": "427955fa",
   "metadata": {},
   "outputs": [
    {
     "name": "stdout",
     "output_type": "stream",
     "text": [
      "Hello, Tashfeen Aziz! you will turn 100 year old in the year 2103\n"
     ]
    }
   ],
   "source": [
    "from datetime import datetime\n",
    "name = input(\"Enter your name: \")\n",
    "age = int(input(\"Enter your age: \"))\n",
    "\n",
    "current_year = datetime.now().year\n",
    "year_turn_100 = current_year + (100 - age)\n",
    "print(f\"Hello, {name}! you will turn 100 year old in the year {year_turn_100}\")"
   ]
  },
  {
   "cell_type": "markdown",
   "id": "f7af4254",
   "metadata": {},
   "source": [
    "Question 2: Simple Interest Calculator\n",
    "Problem:\n",
    "Write a Python program to calculate simple interest using the formula:\n",
    "SI = (P × R × T) / 100"
   ]
  },
  {
   "cell_type": "code",
   "execution_count": 2,
   "id": "141ea969",
   "metadata": {},
   "outputs": [
    {
     "name": "stdout",
     "output_type": "stream",
     "text": [
      " The simple interest is: 8.0\n"
     ]
    }
   ],
   "source": [
    "# Taking input from the user\n",
    "p = float(input(\"Enter thr Principle amount: \"))\n",
    "R = float(input(\"Enter the Rate of Interest: \"))\n",
    "T = float(input(\"Enter the Time period: \"))\n",
    "\n",
    "# Calculating the Simple Interest\n",
    "SI = (p * R * T) / 100\n",
    "\n",
    "# output\n",
    "print(f\" The simple interest is: {SI}\")"
   ]
  },
  {
   "cell_type": "markdown",
   "id": "8d8469c8",
   "metadata": {},
   "source": [
    " Question 3: Odd or Even Checker\n",
    "Problem:\n",
    "Take a number from the user and determine if it’s even or odd. If it’s even and divisible by 4, mention that too."
   ]
  },
  {
   "cell_type": "code",
   "execution_count": 3,
   "id": "68a7bbab",
   "metadata": {},
   "outputs": [
    {
     "name": "stdout",
     "output_type": "stream",
     "text": [
      "34 is even\n"
     ]
    }
   ],
   "source": [
    "number = int(input(\"Enter a number: \"))\n",
    "\n",
    "if number % 2 == 0:\n",
    "    print(number, \"is even\")\n",
    "    if number % 4 == 0:\n",
    "        print(number, \"is a multiple of 4\")\n",
    "else:\n",
    "    print(number, \"is odd\")"
   ]
  },
  {
   "cell_type": "markdown",
   "id": "e1a72730",
   "metadata": {},
   "source": [
    "Question 4: Password Strength Checker (Simple Version)\n",
    "Problem:\n",
    "Ask the user to input a password and check if:\n",
    "\n",
    "It's at least 8 characters\n",
    "\n",
    "Contains both letters and numbers"
   ]
  },
  {
   "cell_type": "code",
   "execution_count": 4,
   "id": "5e788ce6",
   "metadata": {},
   "outputs": [
    {
     "name": "stdout",
     "output_type": "stream",
     "text": [
      "Strong Password!\n"
     ]
    }
   ],
   "source": [
    "password = input(\"Enter your password: \")\n",
    "\n",
    "has_latter = any(char.isalpha() for char in password)\n",
    "has_digit = any(char.isdigit() for char in password)\n",
    "\n",
    "if len(password) >=8 and has_latter and has_digit:\n",
    "    print(\"Strong Password!\")\n",
    "else:\n",
    "    print(\"Weak Password!\")"
   ]
  },
  {
   "cell_type": "markdown",
   "id": "b2b4135b",
   "metadata": {},
   "source": [
    "Question 5: Mini Chatbot (Keyword Based)\n",
    "Problem:\n",
    "Create a small chatbot that responds to greetings. If the user says \"hello\", \"hi\", or \"hey\", respond with a greeting. Otherwise, say you didn’t understand."
   ]
  },
  {
   "cell_type": "code",
   "execution_count": 5,
   "id": "c2938e12",
   "metadata": {},
   "outputs": [
    {
     "name": "stdout",
     "output_type": "stream",
     "text": [
      "Hi there! how can i help you to day!\n"
     ]
    }
   ],
   "source": [
    "User_input = input(\"Say something: \").lower()\n",
    "if \"hello\" in User_input or \"hi\" in User_input or \"hey\" in User_input:\n",
    "    print(\"Hi there! how can i help you to day!\")\n",
    "else:\n",
    "    print(\"Sorry! I didn't understand that. Can you try again?\")"
   ]
  },
  {
   "cell_type": "code",
   "execution_count": null,
   "id": "baf45c85",
   "metadata": {},
   "outputs": [
    {
     "name": "stdout",
     "output_type": "stream",
     "text": [
      "1\n",
      "3\n"
     ]
    }
   ],
   "source": [
    "fru = [1,2,3]\n",
    "for x in fru:\n",
    "    if x ==2:\n",
    "        continue\n",
    "    print(x)"
   ]
  },
  {
   "cell_type": "code",
   "execution_count": 1,
   "id": "9d4487e5",
   "metadata": {},
   "outputs": [
    {
     "name": "stdout",
     "output_type": "stream",
     "text": [
      "1\n",
      "3\n"
     ]
    }
   ],
   "source": [
    "fru = [1,2,3]\n",
    "for x in fru:\n",
    "    if x ==2:\n",
    "        continue\n",
    "    print(x)"
   ]
  }
 ],
 "metadata": {
  "kernelspec": {
   "display_name": "base",
   "language": "python",
   "name": "python3"
  },
  "language_info": {
   "codemirror_mode": {
    "name": "ipython",
    "version": 3
   },
   "file_extension": ".py",
   "mimetype": "text/x-python",
   "name": "python",
   "nbconvert_exporter": "python",
   "pygments_lexer": "ipython3",
   "version": "3.11.7"
  }
 },
 "nbformat": 4,
 "nbformat_minor": 5
}
