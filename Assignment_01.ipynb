{
 "cells": [
  {
   "cell_type": "markdown",
   "metadata": {},
   "source": [
    "Question 1: Code Along\n",
    "Problem: Write a Python program that takes a string as input and prints out the\n",
    "following:\n",
    "1. The string in reverse order.\n",
    "2. The number of vowels in the string."
   ]
  },
  {
   "cell_type": "code",
   "execution_count": 2,
   "metadata": {},
   "outputs": [
    {
     "name": "stdout",
     "output_type": "stream",
     "text": [
      "Reversed string:  zizA neefhsaT\n",
      "Number of vowels:  5\n"
     ]
    }
   ],
   "source": [
    "user_input = input(\"Enter a string: \")\n",
    "reversed_string = user_input[::-1]\n",
    "\n",
    "vowels = \"aeiouAEIOU\"\n",
    "vowel_count = 0\n",
    "\n",
    "for char in user_input:\n",
    "    if char in vowels:\n",
    "        vowel_count += 1\n",
    "print(\"Reversed string: \", reversed_string)\n",
    "print(\"Number of vowels: \", vowel_count)\n"
   ]
  },
  {
   "cell_type": "markdown",
   "metadata": {},
   "source": [
    "Question 2: Hands-on Coding Project\n",
    "Problem: Create a Python program that:\n",
    "● Takes an input number from the user.\n",
    "● Checks whether the number is even or odd.\n",
    "● Prints the result."
   ]
  },
  {
   "cell_type": "code",
   "execution_count": 3,
   "metadata": {},
   "outputs": [
    {
     "name": "stdout",
     "output_type": "stream",
     "text": [
      "The number 5 is Odd.\n"
     ]
    }
   ],
   "source": [
    "num = int(input(\"Enter a number: \"))\n",
    "if num % 2 == 0:\n",
    "    print(f\"The number {num} is Even.\")\n",
    "else:\n",
    "    print(f\"The number {num} is Odd.\")\n"
   ]
  },
  {
   "cell_type": "markdown",
   "metadata": {},
   "source": [
    "Question 3: Virtual Environment Application\n",
    "Problem: Create a Python program that:\n",
    "1. Takes a list of integers as input.\n",
    "2. Creates a new virtual environment called sortenv.\n",
    "3. Installs a package (such as numpy) in the virtual environment.\n",
    "4. Sorts the list using a numpy method (numpy.sort()).\n",
    "5. Prints the sorted list."
   ]
  },
  {
   "cell_type": "code",
   "execution_count": 4,
   "metadata": {},
   "outputs": [
    {
     "name": "stdout",
     "output_type": "stream",
     "text": [
      "To create a virtual environment, run the following command in the terminal:\n",
      "  python -m venv sortenv\n",
      "\n",
      "To activate the virtual environment:\n",
      "  On Windows: sortenv\\Scripts\\activate\n",
      "\n",
      "To install numpy in the virtual environment, use:\n",
      "  pip install numpy\n",
      "\n",
      "Sorted list: [1, 3, 4, 5, 6, 7, 89]\n"
     ]
    }
   ],
   "source": [
    "print(\"To create a virtual environment, run the following command in the terminal:\")\n",
    "print(\"  python -m venv sortenv\")\n",
    "\n",
    "print(\"\\nTo activate the virtual environment:\")\n",
    "print(\"  On Windows: sortenv\\\\Scripts\\\\activate\")\n",
    "print(\"\\nTo install numpy in the virtual environment, use:\")\n",
    "print(\"  pip install numpy\\n\")\n",
    "\n",
    "import numpy as np\n",
    "user_input = input(\"Enter a list of numbers separated by spaces: \")\n",
    "num_list = list(map(int, user_input.split()))  \n",
    "\n",
    "sorted_list = np.sort(num_list)\n",
    "\n",
    "print(\"Sorted list:\", sorted_list.tolist()) \n"
   ]
  }
 ],
 "metadata": {
  "kernelspec": {
   "display_name": "Python 3",
   "language": "python",
   "name": "python3"
  },
  "language_info": {
   "codemirror_mode": {
    "name": "ipython",
    "version": 3
   },
   "file_extension": ".py",
   "mimetype": "text/x-python",
   "name": "python",
   "nbconvert_exporter": "python",
   "pygments_lexer": "ipython3",
   "version": "3.12.6"
  }
 },
 "nbformat": 4,
 "nbformat_minor": 2
}
